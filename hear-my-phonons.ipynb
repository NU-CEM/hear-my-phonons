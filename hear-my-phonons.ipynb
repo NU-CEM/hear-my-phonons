{
 "cells": [
  {
   "cell_type": "code",
   "execution_count": 91,
   "id": "a8012108",
   "metadata": {},
   "outputs": [],
   "source": [
    "import sounddevice\n",
    "import numpy as np\n",
    "import time\n",
    "import yaml\n",
    "from scipy import constants"
   ]
  },
  {
   "cell_type": "code",
   "execution_count": 86,
   "id": "934b2696",
   "metadata": {},
   "outputs": [],
   "source": [
    "phonon_mesh_filepath = './data/BaS_Fm3m/mesh.yaml'\n",
    "sample_rate = 44100\n",
    "timelength = 5  # length of sample in seconds\n",
    "min_audible = 20# minimum audible frequency in herz\n",
    "max_audible = 8E3 # maximum audible frequency in herz\n",
    "min_phonon = 0 # minimum phonon frequency in THz, if not set it is extracted from the phonon calc\n",
    "max_phonon = 16 # maximum phonon frequency in THz, if not set it is extracted from the phonon calc"
   ]
  },
  {
   "cell_type": "code",
   "execution_count": 112,
   "id": "68402130",
   "metadata": {},
   "outputs": [],
   "source": [
    "# this function adapted from\n",
    "# https://stackoverflow.com/questions/73494717/trying-to-play-multiple-frequencies-in-python-sounddevice-blow-horrific-speaker\n",
    "def callback(outdata: np.ndarray, frames: int, time, status) -> None:\n",
    "    \"\"\"writes sound output to 'outdata' from sound_queue.\"\"\"\n",
    "    result = None\n",
    "\n",
    "    for frequency, start_index in audible_dictionary.items():\n",
    "        t = (start_index + np.arange(frames)) / sample_rate\n",
    "        t = t.reshape(-1, 1)\n",
    "\n",
    "        wave = np.sin(2 * np.pi * frequency * t)\n",
    "\n",
    "        if result is None:\n",
    "            result = wave\n",
    "        else:\n",
    "            result += wave\n",
    "\n",
    "        audible_dictionary[frequency] += frames\n",
    "\n",
    "    if result is None:\n",
    "        result = np.arange(frames) / sample_rate\n",
    "        result = result.reshape(-1, 1)\n",
    "\n",
    "    outdata[:] = result\n",
    "    \n",
    "def phonon_to_audible(phonon_frequencies):\n",
    "    \"\"\"takes phonon frequencies (in THz) and returns suitable phonon frequencies (in Hz)\"\"\"\n",
    "    \n",
    "    if len(phonon_frequencies) == 1:\n",
    "        audible_frequencies = [440]\n",
    "        print(\"only one phonon frequency, so mapping to 440Hz\")\n",
    "    else:\n",
    "        audible_frequencies = linear_map(phonon_frequencies)\n",
    "        \n",
    "    return audible_frequencies\n",
    "\n",
    "def linear_map(phonon_frequencies):\n",
    "    \"\"\"linearly maps phonon frequencies (in THz) to frequencies in the audible range (in Hz)\"\"\"\n",
    "    \n",
    "    if min_phonon is None:\n",
    "        min_phonon_hz = min(phonon_frequencies)*1E12\n",
    "    else:\n",
    "        min_phonon_hz = min_phonon*1E12\n",
    "\n",
    "    if max_phonon is None:\n",
    "        max_phonon_hz = max(phonon_frequencies)*1E12\n",
    "    else:\n",
    "        max_phonon_hz = max_phonon*1E12        \n",
    "\n",
    "    phonon_frequencies_hz = np.array(phonon_frequencies)*1E12\n",
    "    scale_factor = (max_audible - min_audible) / (max_phonon_hz - min_phonon_hz)\n",
    "    audible_frequencies = [ scale_factor*(frequency-min_phonon_hz) + min_audible for frequency in phonon_frequencies_hz]\n",
    "    print(\"audible frequencies are (Hz):\", audible_frequencies)\n",
    "    \n",
    "    return audible_frequencies\n",
    "\n",
    "def frequencies_from_mesh(phonon_mesh_filepath):\n",
    "    \"\"\"return phonon frequencies at gamma point from a phonopy mesh.yaml. Assumes gamma point is zeroth\n",
    "    element in data['phonon'].\"\"\"\n",
    "    \n",
    "    # read yaml data \n",
    "    with open(phonon_mesh_filepath) as f:\n",
    "        data = yaml.safe_load(f)\n",
    "\n",
    "    # extract list of unique frequencies - these are in THz\n",
    "    phonon_frequencies = list(set([dictionary['frequency'] for dictionary in data['phonon'][0]['band']]))\n",
    "    phonon_frequencies = process_imaginary(phonon_frequencies)\n",
    "    \n",
    "    return phonon_frequencies\n",
    "    \n",
    "def process_imaginary(phonon_frequencies):\n",
    "    # remove any imaginary modes\n",
    "    phonon_cleaned_frequencies = [frequency for frequency in phonon_frequencies if frequency > 0]\n",
    "    \n",
    "    return phonon_cleaned_frequencies\n",
    "\n",
    "def frequencies_from_mp_id(mp_id):\n",
    "    \"\"\"return phonon frequencies at gamma point from for a material hosted on the Materials Project ().\n",
    "    Material is identified using unique ID number. Note that to use this feature you need a Materials\n",
    "    Project API key (https://materialsproject.org/api).\"\"\"\n",
    "    import mp_api\n",
    "    from mp_api.client import MPRester\n",
    "\n",
    "    with MPRester(\"os1XoXmCTeMm5rDO4kY9ClmfVKzuo5ek\") as mpr:\n",
    "        try:\n",
    "            bs = mpr.phonon.get_data_by_id(mp_id).ph_bs\n",
    "        except:\n",
    "            print(\"this materials project entry does not appear to have phonon data\")\n",
    "            pass\n",
    "\n",
    "    print(\"extracting frequencies for qpoint {}\".format(bs.qpoints[0].cart_coords))\n",
    "\n",
    "    phonon_frequencies = list(bs.bands[:,0])\n",
    "    phonon_frequencies = process_imaginary(phonon_frequencies)\n",
    "    print(\"phonon frequencies are (THz):\", phonon_frequencies)\n",
    "    \n",
    "    return phonon_frequencies\n",
    "\n",
    "def bose_einstien_distribution(energy,temperature):\n",
    "    return 1 / (math.exp(energy/(constants.Boltzmann*temperature)) - 1)\n",
    "\n",
    "def frequency_to_energy(frequency):\n",
    "    \"\"\"convert frequency in THz to energy in joules\"\"\"\n",
    "    frequency_hz = frequency*1E12\n",
    "    energy = constants.h*frequency_hz\n",
    "    return energy\n",
    "    \n",
    "def excite_by_heat(phonon_frequencies, temperature):\n",
    "    \"\"\"return frequencies which have average occupation >= 1 at a given temperature. \n",
    "    Average occupation is calculated using Bose-Einstien statistics\"\"\"\n",
    "    average_occupations = np.array([bose_einstien_distribution(frequency_to_energy(frequency),temperature) \n",
    "                           for frequency in phonon_frequencies])\n",
    "    # need phonon_frequency as numpy array\n",
    "    phonon_frequencies = np.array(phonon_frequencies)\n",
    "    # can now use trendy indexing over a boolean array\n",
    "    occupied_modes = phonon_frequencies[average_occupations >= 1]\n",
    "    return occupied_modes\n",
    "\n",
    "def play_chord(timelength):\n",
    "    \"\"\"DRONE POWER\"\"\"\n",
    "    \n",
    "    # create stream\n",
    "    stream = sounddevice.OutputStream(channels=2, blocksize=sample_rate, \n",
    "                samplerate=sample_rate, callback=callback)\n",
    "\n",
    "    # start stream and keep running for timelength\n",
    "    stream.start()\n",
    "    time.sleep(timelength)\n",
    "    stream.stop()\n",
    "    stream.close()\n"
   ]
  },
  {
   "cell_type": "code",
   "execution_count": 114,
   "id": "e9a0d5fc",
   "metadata": {},
   "outputs": [
    {
     "data": {
      "application/vnd.jupyter.widget-view+json": {
       "model_id": "4dad093415fb4bf39865e5bfa7bf8914",
       "version_major": 2,
       "version_minor": 0
      },
      "text/plain": [
       "Retrieving PhononBSDOSDoc documents:   0%|          | 0/1 [00:00<?, ?it/s]"
      ]
     },
     "metadata": {},
     "output_type": "display_data"
    },
    {
     "name": "stdout",
     "output_type": "stream",
     "text": [
      "extracting frequencies for qpoint [0. 0. 0.]\n",
      "phonon frequencies are (THz): [1.2009381258136025, 1.2009381260784766, 1.6454931375023374, 1.7595325890055091, 1.7595325890513807, 1.7595325891872349, 2.1939100118368193, 2.1939100119833475, 2.6240476164394857]\n",
      "audible frequencies are (Hz): [618.9678902495342, 618.9678903816401, 840.6897023292908, 897.5668787664976, 897.566878789376, 897.5668788571334, 1114.2126184036135, 1114.2126184766944, 1328.7437486991935]\n"
     ]
    },
    {
     "data": {
      "application/vnd.jupyter.widget-view+json": {
       "model_id": "17030359f4bf426f9cc69813a20c2879",
       "version_major": 2,
       "version_minor": 0
      },
      "text/plain": [
       "Retrieving PhononBSDOSDoc documents:   0%|          | 0/1 [00:00<?, ?it/s]"
      ]
     },
     "metadata": {},
     "output_type": "display_data"
    },
    {
     "name": "stdout",
     "output_type": "stream",
     "text": [
      "extracting frequencies for qpoint [0. 0. 0.]\n",
      "phonon frequencies are (THz): [0.8821485974191188, 0.8821485982276737, 1.181199168223404, 1.1811991683713499, 1.1811991688139027, 2.1120509272414676, 2.224716245546605, 2.224716245627786, 2.224716245869089, 3.448731336467841, 3.4487313366778842, 3.4557770670929258, 3.7945127522326394, 3.7945127523001805, 3.794512752322955, 7.346760732351766, 7.346760732414707, 7.78807039896586, 7.788070399065135, 8.763951852673788, 9.203817055624388]\n",
      "audible frequencies are (Hz): [459.97161296278546, 459.9716133660522, 609.1230851514227, 609.1230852252107, 609.123085445934, 1073.3853999616817, 1129.577227466369, 1129.5772275068582, 1129.577227627208, 1740.0547540633356, 1740.0547541680946, 1743.5688122125966, 1912.5132351760287, 1912.513235209715, 1912.5132352210737]\n"
     ]
    },
    {
     "data": {
      "application/vnd.jupyter.widget-view+json": {
       "model_id": "5d98f119127345d7ad99bfb5d5d2a658",
       "version_major": 2,
       "version_minor": 0
      },
      "text/plain": [
       "Retrieving PhononBSDOSDoc documents:   0%|          | 0/1 [00:00<?, ?it/s]"
      ]
     },
     "metadata": {},
     "output_type": "display_data"
    },
    {
     "name": "stdout",
     "output_type": "stream",
     "text": [
      "extracting frequencies for qpoint [0. 0. 0.]\n",
      "phonon frequencies are (THz): [1.3744775985702402, 1.374597747730219, 1.7193690120730578, 2.458053980390216, 2.464248317162893, 3.325658605647117, 3.6311469154152647, 3.9551639930039695, 4.82908457289989, 4.970609723752224, 5.363934110533108, 6.1847044101091235, 6.683178035359772, 7.027900415750076, 7.252355201896318, 7.719661368578635, 10.548805076117752, 11.180071714841194, 11.551171572492455, 12.042461279145224]\n",
      "audible frequencies are (Hz): [705.5207022869073, 705.5806266804467, 877.5352947714375, 1245.9544227196202, 1249.0438481849928, 1678.6722295664995, 1831.034524063363, 1992.6380415107294]\n"
     ]
    },
    {
     "data": {
      "application/vnd.jupyter.widget-view+json": {
       "model_id": "1417c188eb6546b6b98dd6f3e2d6d460",
       "version_major": 2,
       "version_minor": 0
      },
      "text/plain": [
       "Retrieving PhononBSDOSDoc documents:   0%|          | 0/1 [00:00<?, ?it/s]"
      ]
     },
     "metadata": {},
     "output_type": "display_data"
    },
    {
     "name": "stdout",
     "output_type": "stream",
     "text": [
      "extracting frequencies for qpoint [0. 0. 0.]\n",
      "phonon frequencies are (THz): [1.3817563691566404, 1.3817563692725952, 4.317842234854692]\n",
      "audible frequencies are (Hz): [709.1509891168744, 709.1509891747068, 2173.5238146337774]\n"
     ]
    },
    {
     "data": {
      "application/vnd.jupyter.widget-view+json": {
       "model_id": "d54e13cb0fe248dc930f487092cf02b7",
       "version_major": 2,
       "version_minor": 0
      },
      "text/plain": [
       "Retrieving PhononBSDOSDoc documents:   0%|          | 0/1 [00:00<?, ?it/s]"
      ]
     },
     "metadata": {},
     "output_type": "display_data"
    },
    {
     "name": "stdout",
     "output_type": "stream",
     "text": [
      "extracting frequencies for qpoint [0. 0. 0.]\n",
      "phonon frequencies are (THz): [2.4609863880016514, 2.6692102896738796, 3.1223842035469382, 3.6305308634182283, 3.6305308634360998, 3.9720845254726647, 5.064129283079707, 5.23274244873493, 5.390123145989248, 5.7287784452324555, 6.223748974555539, 6.495150774138142, 6.503234189891305, 6.503234189910901, 13.082929946634557, 13.082929946707631, 13.51347722766403, 13.971425340806988, 15.178574503824095, 15.260078077380902]\n",
      "audible frequencies are (Hz): [1247.4169610158235, 1351.2686319748473, 1577.2891215190355, 1830.7272681298414, 1830.7272681387544, 2001.0771570794914]\n"
     ]
    }
   ],
   "source": [
    "# get phonon frequencies as numpy array\n",
    "# phonon_frequencies = frequencies_from_mesh(phonon_mesh_filepath)\n",
    "Cs3Sb = \"mp-10378\" \n",
    "K2TeCl6  = \"mp-569149\" \n",
    "BaAg2GeS4 = \"mp-7394\" \n",
    "CuCl = \"mp-571386\" \n",
    "CaPbF6 = \"mp-19799\" \n",
    "\n",
    "for mp_id in [Cs3Sb,K2TeCl6,BaAg2GeS4,CuCl,CaPbF6]:\n",
    "\n",
    "    # get phonons (in THz)\n",
    "    phonon_frequencies = frequencies_from_mp_id(mp_id)\n",
    "    \n",
    "    phonon_frequencies = excite_by_heat(phonon_frequencies,300)\n",
    "\n",
    "    # convert phonon frequencies to something in the audible range (return in Hz)\n",
    "    audible_frequencies = phonon_to_audible(phonon_frequencies)\n",
    "\n",
    "    # create global dictionary containing frequencies as keys. This will be used in the output stream.\n",
    "    audible_dictionary = dict.fromkeys(audible_frequencies, 0)\n",
    "\n",
    "    # create output stream and run for set time\n",
    "    play_chord(timelength)\n"
   ]
  },
  {
   "cell_type": "markdown",
   "id": "2bb25857",
   "metadata": {},
   "source": [
    "# Cs3Sb\n",
    "![](./Cs3Sb.png)\n",
    "# K2TeCl6\n",
    "![](./K2TeCl6.png)\n",
    "# BaAg2GeS4\n",
    "![](./BaAg2GeS4.png)\n",
    "# CuCl\n",
    "![](./CuCl.png)\n",
    "# CaPbF6\n",
    "![](./CaPbF6.png)"
   ]
  },
  {
   "cell_type": "code",
   "execution_count": 21,
   "id": "63d84f94",
   "metadata": {},
   "outputs": [],
   "source": [
    "# specify Materials Project ID or provide your own mesh.yaml or band.yaml\n",
    "# have in gamma-point mode or band dispersion mode\n",
    "# gamma point mode: play chord, temperature slider, keyboard of notes\n",
    "# band dispersion mode: play as moving through reciprocal space, or select position to play chord\n",
    "\n",
    "# host as a web app\n",
    "# use as an education outreach tool\n",
    "# use for undergraduate education\n",
    "# use for musical performance?\n",
    "# learning points: role of defects"
   ]
  }
 ],
 "metadata": {
  "kernelspec": {
   "display_name": "Python 3 (ipykernel)",
   "language": "python",
   "name": "python3"
  },
  "language_info": {
   "codemirror_mode": {
    "name": "ipython",
    "version": 3
   },
   "file_extension": ".py",
   "mimetype": "text/x-python",
   "name": "python",
   "nbconvert_exporter": "python",
   "pygments_lexer": "ipython3",
   "version": "3.10.10"
  }
 },
 "nbformat": 4,
 "nbformat_minor": 5
}
