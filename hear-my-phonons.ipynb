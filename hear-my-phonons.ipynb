{
 "cells": [
  {
   "cell_type": "code",
   "execution_count": 18,
   "id": "a8012108",
   "metadata": {},
   "outputs": [
    {
     "ename": "ModuleNotFoundError",
     "evalue": "No module named 'sounddevice'",
     "output_type": "error",
     "traceback": [
      "\u001b[0;31m---------------------------------------------------------------------------\u001b[0m",
      "\u001b[0;31mModuleNotFoundError\u001b[0m                       Traceback (most recent call last)",
      "Cell \u001b[0;32mIn[18], line 1\u001b[0m\n\u001b[0;32m----> 1\u001b[0m \u001b[38;5;28;01mimport\u001b[39;00m \u001b[38;5;21;01msounddevice\u001b[39;00m\n\u001b[1;32m      2\u001b[0m \u001b[38;5;28;01mimport\u001b[39;00m \u001b[38;5;21;01mnumpy\u001b[39;00m\n\u001b[1;32m      3\u001b[0m \u001b[38;5;28;01mimport\u001b[39;00m \u001b[38;5;21;01mtime\u001b[39;00m\n",
      "\u001b[0;31mModuleNotFoundError\u001b[0m: No module named 'sounddevice'"
     ]
    }
   ],
   "source": [
    "import sounddevice\n",
    "import numpy\n",
    "import time\n",
    "import yaml"
   ]
  },
  {
   "cell_type": "code",
   "execution_count": null,
   "id": "934b2696",
   "metadata": {},
   "outputs": [],
   "source": [
    "phonon_mesh_filepath = './data/BaS_Fm3m/mesh.yaml'\n",
    "sample_rate = 44100\n",
    "timelength = 5  # length of sample in seconds\n",
    "min_audible = 20# minimum audible frequency in herz\n",
    "max_audible = 20E3 # maximum audible frequency in herz\n",
    "min_phonon = None # minimum phonon frequency in THz, if not set it is extracted from the phonon calc\n",
    "max_phonon = None # maximum phonon frequency in THz, if not set it is extracted from the phonon calc"
   ]
  },
  {
   "cell_type": "code",
   "execution_count": null,
   "id": "68402130",
   "metadata": {},
   "outputs": [],
   "source": [
    "def callback(outdata: numpy.ndarray, frames: int, time, status, audible_frequencies, sample_rate) -> None:\n",
    "    \"\"\"writes sound output to 'outdata' from sound_queue.\"\"\"\n",
    "    result = None\n",
    "\n",
    "    for frequency in audible_frequencies:\n",
    "        t = (start_index + numpy.arange(frames)) / sample_rate\n",
    "        t = t.reshape(-1, 1)\n",
    "\n",
    "        wave = numpy.sin(2 * numpy.pi * frequency * t)\n",
    "\n",
    "        if result is None:\n",
    "            result = wave\n",
    "        else:\n",
    "            result += wave\n",
    "\n",
    "        frequencies[frequency] += frames\n",
    "\n",
    "    if result is None:\n",
    "        result = numpy.arange(frames) / SAMPLE_RATE\n",
    "        result = result.reshape(-1, 1)\n",
    "\n",
    "    outdata[:] = result\n",
    "    \n",
    "def phonon_to_audible(phonon_frequencies):\n",
    "    \"\"\"linearly maps phonon frequencies (in THz) to frequencies in the audible range (returns in Hz)\"\"\"\n",
    "    \n",
    "    if min_phonon is None:\n",
    "        min_phonon = min(phonon_frequencies)\n",
    "    min_phonon_hz = min_phonon*1E12\n",
    "    \n",
    "    if max_phonon is None:\n",
    "        max_phonon = max(phonon_frequencies)\n",
    "    max_phonon_hz = max_phonon*1E12\n",
    "    \n",
    "    phonon_frequencies_hz = np.array(phonon_frequencies)*1E12\n",
    "    \n",
    "    scale_factor = (max_audible - min_audible) / (max_phonon_hz - min_phonon_hz)\n",
    "    \n",
    "    audible_frequencies = [ scale_factor*(frequency-min_phonon_hz) + min_audible for frequency in phonon_frequencies_hz]\n",
    "    \n",
    "    return audible_frequencies"
   ]
  },
  {
   "cell_type": "code",
   "execution_count": 2,
   "id": "e9a0d5fc",
   "metadata": {},
   "outputs": [],
   "source": [
    "# read yaml data \n",
    "with open(phonon_mesh_filepath) as f:\n",
    "    data = yaml.safe_load(f)\n",
    "\n",
    "# extract list of unique frequencies - these are in THz\n",
    "phonon_frequencies = list(set([dictionary['frequency'] for dictionary in data['phonon'][0]['band']]))\n",
    "# remove any imaginary modes\n",
    "phonon_frequencies = [frequency for frequency in phonon_frequencies if frequency > 0]\n",
    "\n",
    "# TODO: convert frequencies to herz within audible range\n",
    "audible_frequencies = phonon_to_audible(phonon_frequencies)\n",
    "\n",
    "# create output stream\n",
    "stream = sounddevice.OutputStream(channels=2, blocksize=SAMPLE_RATE, \n",
    "            samplerate=SAMPLE_RATE, callback=callback, audible_frequencies, sample_rate)\n",
    "\n",
    "# start stream and keep running for timelength\n",
    "stream.start()\n",
    "time.sleep(timelength)"
   ]
  },
  {
   "cell_type": "code",
   "execution_count": 6,
   "id": "63d84f94",
   "metadata": {},
   "outputs": [],
   "source": [
    "# specify Materials Project ID or provide your own mesh.yaml or band.yaml\n",
    "# have in gamma-point mode or band dispersion mode\n",
    "# gamma point mode: play chord, temperature slider, keyboard of notes\n",
    "# band dispersion mode: play as moving through reciprocal space, or select position to play chord\n",
    "\n",
    "# host as a web app\n",
    "# use as an education outreach tool\n",
    "# use for undergraduate education\n",
    "# use for musical performance?\n",
    "# learning points: role of defects"
   ]
  }
 ],
 "metadata": {
  "kernelspec": {
   "display_name": "Python 3 (ipykernel)",
   "language": "python",
   "name": "python3"
  },
  "language_info": {
   "codemirror_mode": {
    "name": "ipython",
    "version": 3
   },
   "file_extension": ".py",
   "mimetype": "text/x-python",
   "name": "python",
   "nbconvert_exporter": "python",
   "pygments_lexer": "ipython3",
   "version": "3.8.13"
  }
 },
 "nbformat": 4,
 "nbformat_minor": 5
}
